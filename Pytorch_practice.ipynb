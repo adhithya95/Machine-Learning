{
  "nbformat": 4,
  "nbformat_minor": 0,
  "metadata": {
    "colab": {
      "provenance": [],
      "authorship_tag": "ABX9TyMreOhEA3IT0A1dOpskA4Pd"
    },
    "kernelspec": {
      "name": "python3",
      "display_name": "Python 3"
    },
    "language_info": {
      "name": "python"
    }
  },
  "cells": [
    {
      "cell_type": "code",
      "source": [
        "import torch\n",
        "import pandas as pd\n",
        "import numpy as np\n",
        "import matplotlib.pyplot as plt\n",
        "print(torch.__version__)"
      ],
      "metadata": {
        "colab": {
          "base_uri": "https://localhost:8080/"
        },
        "id": "l319RGDaWkXe",
        "outputId": "06c1380a-8970-4047-b536-25ba14c67f2d"
      },
      "execution_count": 5,
      "outputs": [
        {
          "output_type": "stream",
          "name": "stdout",
          "text": [
            "2.6.0+cu124\n"
          ]
        }
      ]
    },
    {
      "cell_type": "code",
      "source": [
        "scalar = torch.tensor(100)\n",
        "vector = torch.tensor([5,90])\n",
        "print(scalar.shape)\n",
        "print(vector.shape)\n",
        "matrix = torch.tensor([[1,2],[3,4]])\n",
        "print(matrix.shape)\n",
        "print(matrix[0])"
      ],
      "metadata": {
        "colab": {
          "base_uri": "https://localhost:8080/"
        },
        "id": "vf7E3lu2ahJ7",
        "outputId": "7d0e82f5-3a3c-40ae-8664-fabc16161e9c"
      },
      "execution_count": 8,
      "outputs": [
        {
          "output_type": "stream",
          "name": "stdout",
          "text": [
            "torch.Size([])\n",
            "torch.Size([2])\n",
            "torch.Size([2, 2])\n",
            "tensor([1, 2])\n"
          ]
        }
      ]
    }
  ]
}