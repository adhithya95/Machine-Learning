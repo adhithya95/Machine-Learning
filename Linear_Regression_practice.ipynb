{
  "nbformat": 4,
  "nbformat_minor": 0,
  "metadata": {
    "colab": {
      "provenance": [],
      "authorship_tag": "ABX9TyNIQzBqcvwq+n6jcj8h4zmY"
    },
    "kernelspec": {
      "name": "python3",
      "display_name": "Python 3"
    },
    "language_info": {
      "name": "python"
    }
  },
  "cells": [
    {
      "cell_type": "code",
      "execution_count": 14,
      "metadata": {
        "colab": {
          "base_uri": "https://localhost:8080/"
        },
        "id": "EmO-hKaFOCsH",
        "outputId": "5679b56d-bf12-40ad-da9a-f609ab612985"
      },
      "outputs": [
        {
          "output_type": "stream",
          "name": "stdout",
          "text": [
            "R² score: 0.9909819634821726\n",
            "R² score: 0.989430724538778\n",
            "[86.9177208]\n"
          ]
        },
        {
          "output_type": "stream",
          "name": "stderr",
          "text": [
            "/usr/local/lib/python3.11/dist-packages/sklearn/utils/validation.py:2739: UserWarning: X does not have valid feature names, but LinearRegression was fitted with feature names\n",
            "  warnings.warn(\n"
          ]
        }
      ],
      "source": [
        "import matplotlib.pyplot as plt\n",
        "import numpy as np\n",
        "import pandas as pd\n",
        "from sklearn.model_selection import train_test_split\n",
        "from sklearn.linear_model import LinearRegression\n",
        "from sklearn.metrics import r2_score\n",
        "df = pd.read_csv('/content/train.csv')\n",
        "df = df.dropna(subset=['x', 'y'])\n",
        "x = df[['x']]\n",
        "y = df['y']\n",
        "x_train, x_test, y_train, y_test = train_test_split(x, y, test_size=0.2)\n",
        "model = LinearRegression()\n",
        "model.fit(x_train, y_train)\n",
        "train_pred = model.predict(x_train)\n",
        "print(\"R² score:\", r2_score(y_train, train_pred))\n",
        "test_pred = model.predict(x_test)\n",
        "print(\"R² score:\", r2_score(y_test, test_pred))\n",
        "inp = (87)\n",
        "nparr = np.asarray(inp)\n",
        "res = nparr.reshape(1,-1)\n",
        "test_pred1 = model.predict(res)\n",
        "print(test_pred1)\n",
        "\n",
        "\n",
        "\n"
      ]
    }
  ]
}